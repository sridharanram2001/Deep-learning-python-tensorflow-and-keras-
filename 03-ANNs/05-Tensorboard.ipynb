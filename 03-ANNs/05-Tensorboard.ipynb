{
 "cells": [
  {
   "cell_type": "markdown",
   "metadata": {},
   "source": [
    "<a href=\"https://www.pieriandata.com\"><img src=\"../Pierian_Data_Logo.PNG\"></a>\n",
    "<strong><center>Copyright by Pierian Data Inc.</center></strong> \n",
    "<strong><center>Created by Jose Marcial Portilla.</center></strong>"
   ]
  },
  {
   "cell_type": "markdown",
   "metadata": {},
   "source": [
    "# Tensorboard\n",
    "\n",
    "---\n",
    "---\n",
    "\n",
    "**NOTE: You must watch the corresponding video to understand this lecture. This notebook can't serve as a full guide. Please watch the video BEFORE posting questions to the QA forum.**\n",
    "\n",
    "---\n",
    "---\n",
    "\n",
    "Let's explore the built in data visualization capabilities that come with Tensorboard.\n",
    "\n",
    "Full official tutorial available here: https://www.tensorflow.org/tensorboard/get_started\n",
    "\n",
    "## Data"
   ]
  },
  {
   "cell_type": "code",
   "execution_count": 1,
   "metadata": {},
   "outputs": [],
   "source": [
    "import pandas as pd\n",
    "import numpy as np"
   ]
  },
  {
   "cell_type": "code",
   "execution_count": 2,
   "metadata": {},
   "outputs": [],
   "source": [
    "df = pd.read_csv('../DATA/cancer_classification.csv')"
   ]
  },
  {
   "cell_type": "markdown",
   "metadata": {},
   "source": [
    "### Train Test Split"
   ]
  },
  {
   "cell_type": "code",
   "execution_count": 3,
   "metadata": {},
   "outputs": [],
   "source": [
    "X = df.drop('benign_0__mal_1',axis=1).values\n",
    "y = df['benign_0__mal_1'].values"
   ]
  },
  {
   "cell_type": "code",
   "execution_count": 4,
   "metadata": {},
   "outputs": [],
   "source": [
    "from sklearn.model_selection import train_test_split"
   ]
  },
  {
   "cell_type": "code",
   "execution_count": 5,
   "metadata": {},
   "outputs": [],
   "source": [
    "X_train, X_test, y_train, y_test = train_test_split(X,y,test_size=0.25,random_state=101)"
   ]
  },
  {
   "cell_type": "markdown",
   "metadata": {},
   "source": [
    "\n",
    "### Scaling Data"
   ]
  },
  {
   "cell_type": "code",
   "execution_count": 6,
   "metadata": {},
   "outputs": [],
   "source": [
    "from sklearn.preprocessing import MinMaxScaler"
   ]
  },
  {
   "cell_type": "code",
   "execution_count": 7,
   "metadata": {},
   "outputs": [],
   "source": [
    "scaler = MinMaxScaler()"
   ]
  },
  {
   "cell_type": "code",
   "execution_count": 8,
   "metadata": {},
   "outputs": [
    {
     "data": {
      "text/plain": [
       "MinMaxScaler(copy=True, feature_range=(0, 1))"
      ]
     },
     "execution_count": 8,
     "metadata": {},
     "output_type": "execute_result"
    }
   ],
   "source": [
    "scaler.fit(X_train)"
   ]
  },
  {
   "cell_type": "code",
   "execution_count": 9,
   "metadata": {},
   "outputs": [],
   "source": [
    "X_train = scaler.transform(X_train)\n",
    "X_test = scaler.transform(X_test)"
   ]
  },
  {
   "cell_type": "markdown",
   "metadata": {},
   "source": [
    "## Creating the Model"
   ]
  },
  {
   "cell_type": "code",
   "execution_count": 10,
   "metadata": {},
   "outputs": [],
   "source": [
    "import tensorflow as tf\n",
    "from tensorflow.keras.models import Sequential\n",
    "from tensorflow.keras.layers import Dense, Activation,Dropout"
   ]
  },
  {
   "cell_type": "code",
   "execution_count": 11,
   "metadata": {},
   "outputs": [],
   "source": [
    "from tensorflow.keras.callbacks import EarlyStopping,TensorBoard"
   ]
  },
  {
   "cell_type": "code",
   "execution_count": 12,
   "metadata": {},
   "outputs": [],
   "source": [
    "early_stop = EarlyStopping(monitor='val_loss', mode='min', verbose=1, patience=25)"
   ]
  },
  {
   "cell_type": "code",
   "execution_count": 13,
   "metadata": {},
   "outputs": [
    {
     "data": {
      "text/plain": [
       "'C:\\\\Users\\\\admin\\\\Downloads\\\\TF_2_Notebooks_and_Data\\\\03-ANNs'"
      ]
     },
     "execution_count": 13,
     "metadata": {},
     "output_type": "execute_result"
    }
   ],
   "source": [
    "pwd"
   ]
  },
  {
   "cell_type": "markdown",
   "metadata": {},
   "source": [
    "## Creating the Tensorboard Callback\n",
    "\n",
    "TensorBoard is a visualization tool provided with TensorFlow.\n",
    "\n",
    "This callback logs events for TensorBoard, including:\n",
    "* Metrics summary plots\n",
    "* Training graph visualization\n",
    "* Activation histograms\n",
    "* Sampled profiling\n",
    "\n",
    "If you have installed TensorFlow with pip, you should be able\n",
    "to launch TensorBoard from the command line:\n",
    "\n",
    "```sh\n",
    "tensorboard --logdir=path_to_your_logs\n",
    "```\n",
    "\n",
    "You can find more information about TensorBoard\n",
    "[here](https://www.tensorflow.org/tensorboard/).\n",
    "\n",
    "    Arguments:\n",
    "        log_dir: the path of the directory where to save the log files to be\n",
    "          parsed by TensorBoard.\n",
    "        histogram_freq: frequency (in epochs) at which to compute activation and\n",
    "          weight histograms for the layers of the model. If set to 0, histograms\n",
    "          won't be computed. Validation data (or split) must be specified for\n",
    "          histogram visualizations.\n",
    "        write_graph: whether to visualize the graph in TensorBoard. The log file\n",
    "          can become quite large when write_graph is set to True.\n",
    "        write_images: whether to write model weights to visualize as image in\n",
    "          TensorBoard.\n",
    "        update_freq: `'batch'` or `'epoch'` or integer. When using `'batch'`,\n",
    "          writes the losses and metrics to TensorBoard after each batch. The same\n",
    "          applies for `'epoch'`. If using an integer, let's say `1000`, the\n",
    "          callback will write the metrics and losses to TensorBoard every 1000\n",
    "          samples. Note that writing too frequently to TensorBoard can slow down\n",
    "          your training.\n",
    "        profile_batch: Profile the batch to sample compute characteristics. By\n",
    "          default, it will profile the second batch. Set profile_batch=0 to\n",
    "          disable profiling. Must run in TensorFlow eager mode.\n",
    "        embeddings_freq: frequency (in epochs) at which embedding layers will\n",
    "          be visualized. If set to 0, embeddings won't be visualized.\n",
    "       "
   ]
  },
  {
   "cell_type": "code",
   "execution_count": 14,
   "metadata": {},
   "outputs": [],
   "source": [
    "from datetime import datetime"
   ]
  },
  {
   "cell_type": "code",
   "execution_count": 15,
   "metadata": {},
   "outputs": [
    {
     "data": {
      "text/plain": [
       "'2020-07-27--1946'"
      ]
     },
     "execution_count": 15,
     "metadata": {},
     "output_type": "execute_result"
    }
   ],
   "source": [
    "datetime.now().strftime(\"%Y-%m-%d--%H%M\")"
   ]
  },
  {
   "cell_type": "code",
   "execution_count": 16,
   "metadata": {},
   "outputs": [],
   "source": [
    "# WINDOWS: Use \"logs\\\\fit\"\n",
    "# MACOS/LINUX: Use \"logs\\fit\"\n",
    "\n",
    "log_directory = 'logs\\\\fit'\n",
    "\n",
    "# OPTIONAL: ADD A TIMESTAMP FOR UNIQUE FOLDER\n",
    "# timestamp = datetime.now().strftime(\"%Y-%m-%d--%H%M\")\n",
    "# log_directory = log_directory + '\\\\' + timestamp\n",
    "\n",
    "\n",
    "board = TensorBoard(log_dir=log_directory,histogram_freq=1,\n",
    "    write_graph=True,\n",
    "    write_images=True,\n",
    "    update_freq='epoch',\n",
    "    profile_batch=2,\n",
    "    embeddings_freq=1)"
   ]
  },
  {
   "cell_type": "markdown",
   "metadata": {},
   "source": [
    "Now create the model layers:"
   ]
  },
  {
   "cell_type": "code",
   "execution_count": 17,
   "metadata": {},
   "outputs": [],
   "source": [
    "model = Sequential()\n",
    "model.add(Dense(units=30,activation='relu'))\n",
    "model.add(Dropout(0.5))\n",
    "model.add(Dense(units=15,activation='relu'))\n",
    "model.add(Dropout(0.5))\n",
    "model.add(Dense(units=1,activation='sigmoid'))\n",
    "model.compile(loss='binary_crossentropy', optimizer='adam')"
   ]
  },
  {
   "cell_type": "markdown",
   "metadata": {},
   "source": [
    "## Train the Model"
   ]
  },
  {
   "cell_type": "code",
   "execution_count": 18,
   "metadata": {},
   "outputs": [
    {
     "name": "stdout",
     "output_type": "stream",
     "text": [
      "Train on 426 samples, validate on 143 samples\n",
      "Epoch 1/600\n",
      "426/426 [==============================] - 5s 11ms/sample - loss: 0.7303 - val_loss: 0.7025\n",
      "Epoch 2/600\n",
      "426/426 [==============================] - 0s 365us/sample - loss: 0.7021 - val_loss: 0.6780\n",
      "Epoch 3/600\n",
      "426/426 [==============================] - 0s 352us/sample - loss: 0.6799 - val_loss: 0.6607\n",
      "Epoch 4/600\n",
      "426/426 [==============================] - 0s 347us/sample - loss: 0.6571 - val_loss: 0.6416\n",
      "Epoch 5/600\n",
      "426/426 [==============================] - 0s 344us/sample - loss: 0.6329 - val_loss: 0.6222\n",
      "Epoch 6/600\n",
      "426/426 [==============================] - 0s 353us/sample - loss: 0.6174 - val_loss: 0.5969\n",
      "Epoch 7/600\n",
      "426/426 [==============================] - 0s 302us/sample - loss: 0.6106 - val_loss: 0.5675\n",
      "Epoch 8/600\n",
      "426/426 [==============================] - 0s 346us/sample - loss: 0.5900 - val_loss: 0.5327\n",
      "Epoch 9/600\n",
      "426/426 [==============================] - 0s 341us/sample - loss: 0.5640 - val_loss: 0.4995\n",
      "Epoch 10/600\n",
      "426/426 [==============================] - 0s 349us/sample - loss: 0.5305 - val_loss: 0.4651\n",
      "Epoch 11/600\n",
      "426/426 [==============================] - 0s 349us/sample - loss: 0.5003 - val_loss: 0.4258\n",
      "Epoch 12/600\n",
      "426/426 [==============================] - 0s 332us/sample - loss: 0.4655 - val_loss: 0.3922\n",
      "Epoch 13/600\n",
      "426/426 [==============================] - 0s 350us/sample - loss: 0.4593 - val_loss: 0.3656\n",
      "Epoch 14/600\n",
      "426/426 [==============================] - 0s 339us/sample - loss: 0.4392 - val_loss: 0.3392\n",
      "Epoch 15/600\n",
      "426/426 [==============================] - 0s 336us/sample - loss: 0.4139 - val_loss: 0.3234\n",
      "Epoch 16/600\n",
      "426/426 [==============================] - 0s 352us/sample - loss: 0.3949 - val_loss: 0.3021\n",
      "Epoch 17/600\n",
      "426/426 [==============================] - 0s 346us/sample - loss: 0.3731 - val_loss: 0.2812\n",
      "Epoch 18/600\n",
      "426/426 [==============================] - 0s 338us/sample - loss: 0.3551 - val_loss: 0.2645\n",
      "Epoch 19/600\n",
      "426/426 [==============================] - 0s 294us/sample - loss: 0.3574 - val_loss: 0.2544\n",
      "Epoch 20/600\n",
      "426/426 [==============================] - 0s 358us/sample - loss: 0.3178 - val_loss: 0.2363\n",
      "Epoch 21/600\n",
      "426/426 [==============================] - 0s 342us/sample - loss: 0.3364 - val_loss: 0.2318\n",
      "Epoch 22/600\n",
      "426/426 [==============================] - 0s 344us/sample - loss: 0.3188 - val_loss: 0.2256\n",
      "Epoch 23/600\n",
      "426/426 [==============================] - 0s 348us/sample - loss: 0.2943 - val_loss: 0.2080\n",
      "Epoch 24/600\n",
      "426/426 [==============================] - 0s 334us/sample - loss: 0.3122 - val_loss: 0.1963\n",
      "Epoch 25/600\n",
      "426/426 [==============================] - 0s 354us/sample - loss: 0.2794 - val_loss: 0.1980\n",
      "Epoch 26/600\n",
      "426/426 [==============================] - 0s 337us/sample - loss: 0.2888 - val_loss: 0.1850\n",
      "Epoch 27/600\n",
      "426/426 [==============================] - 0s 363us/sample - loss: 0.2604 - val_loss: 0.1792\n",
      "Epoch 28/600\n",
      "426/426 [==============================] - 0s 365us/sample - loss: 0.2907 - val_loss: 0.1851\n",
      "Epoch 29/600\n",
      "426/426 [==============================] - 0s 297us/sample - loss: 0.2661 - val_loss: 0.1790\n",
      "Epoch 30/600\n",
      "426/426 [==============================] - 0s 336us/sample - loss: 0.2605 - val_loss: 0.1701\n",
      "Epoch 31/600\n",
      "426/426 [==============================] - 0s 348us/sample - loss: 0.2810 - val_loss: 0.1712\n",
      "Epoch 32/600\n",
      "426/426 [==============================] - 0s 334us/sample - loss: 0.2419 - val_loss: 0.1667\n",
      "Epoch 33/600\n",
      "426/426 [==============================] - 0s 306us/sample - loss: 0.2334 - val_loss: 0.1549\n",
      "Epoch 34/600\n",
      "426/426 [==============================] - 0s 320us/sample - loss: 0.2447 - val_loss: 0.1559\n",
      "Epoch 35/600\n",
      "426/426 [==============================] - 0s 381us/sample - loss: 0.2519 - val_loss: 0.1537\n",
      "Epoch 36/600\n",
      "426/426 [==============================] - 0s 343us/sample - loss: 0.2288 - val_loss: 0.1472\n",
      "Epoch 37/600\n",
      "426/426 [==============================] - 0s 346us/sample - loss: 0.2150 - val_loss: 0.1514\n",
      "Epoch 38/600\n",
      "426/426 [==============================] - 0s 357us/sample - loss: 0.2100 - val_loss: 0.1452\n",
      "Epoch 39/600\n",
      "426/426 [==============================] - 0s 337us/sample - loss: 0.2130 - val_loss: 0.1401\n",
      "Epoch 40/600\n",
      "426/426 [==============================] - 0s 323us/sample - loss: 0.2035 - val_loss: 0.1363\n",
      "Epoch 41/600\n",
      "426/426 [==============================] - 0s 331us/sample - loss: 0.1959 - val_loss: 0.1342\n",
      "Epoch 42/600\n",
      "426/426 [==============================] - 0s 336us/sample - loss: 0.1951 - val_loss: 0.1457\n",
      "Epoch 43/600\n",
      "426/426 [==============================] - 0s 354us/sample - loss: 0.2196 - val_loss: 0.1325\n",
      "Epoch 44/600\n",
      "426/426 [==============================] - 0s 360us/sample - loss: 0.2016 - val_loss: 0.1301\n",
      "Epoch 45/600\n",
      "426/426 [==============================] - 0s 343us/sample - loss: 0.1772 - val_loss: 0.1323\n",
      "Epoch 46/600\n",
      "426/426 [==============================] - 0s 353us/sample - loss: 0.2234 - val_loss: 0.1320\n",
      "Epoch 47/600\n",
      "426/426 [==============================] - 0s 358us/sample - loss: 0.1884 - val_loss: 0.1268\n",
      "Epoch 48/600\n",
      "426/426 [==============================] - 0s 339us/sample - loss: 0.1775 - val_loss: 0.1231\n",
      "Epoch 49/600\n",
      "426/426 [==============================] - 0s 334us/sample - loss: 0.1762 - val_loss: 0.1264\n",
      "Epoch 50/600\n",
      "426/426 [==============================] - 0s 368us/sample - loss: 0.1822 - val_loss: 0.1314\n",
      "Epoch 51/600\n",
      "426/426 [==============================] - 0s 392us/sample - loss: 0.1706 - val_loss: 0.1198\n",
      "Epoch 52/600\n",
      "426/426 [==============================] - 0s 382us/sample - loss: 0.1803 - val_loss: 0.1175\n",
      "Epoch 53/600\n",
      "426/426 [==============================] - 0s 380us/sample - loss: 0.2061 - val_loss: 0.1210\n",
      "Epoch 54/600\n",
      "426/426 [==============================] - 0s 390us/sample - loss: 0.1777 - val_loss: 0.1177\n",
      "Epoch 55/600\n",
      "426/426 [==============================] - 0s 364us/sample - loss: 0.1690 - val_loss: 0.1166\n",
      "Epoch 56/600\n",
      "426/426 [==============================] - 0s 377us/sample - loss: 0.1446 - val_loss: 0.1118\n",
      "Epoch 57/600\n",
      "426/426 [==============================] - 0s 340us/sample - loss: 0.1535 - val_loss: 0.1145\n",
      "Epoch 58/600\n",
      "426/426 [==============================] - 0s 338us/sample - loss: 0.1516 - val_loss: 0.1130\n",
      "Epoch 59/600\n",
      "426/426 [==============================] - 0s 648us/sample - loss: 0.1493 - val_loss: 0.1202\n",
      "Epoch 60/600\n",
      "426/426 [==============================] - 0s 359us/sample - loss: 0.1494 - val_loss: 0.1130\n",
      "Epoch 61/600\n",
      "426/426 [==============================] - 0s 333us/sample - loss: 0.1503 - val_loss: 0.1144\n",
      "Epoch 62/600\n",
      "426/426 [==============================] - 0s 355us/sample - loss: 0.1420 - val_loss: 0.1163\n",
      "Epoch 63/600\n",
      "426/426 [==============================] - 0s 369us/sample - loss: 0.1541 - val_loss: 0.1173\n",
      "Epoch 64/600\n",
      "426/426 [==============================] - 0s 338us/sample - loss: 0.1516 - val_loss: 0.1180\n",
      "Epoch 65/600\n",
      "426/426 [==============================] - 0s 381us/sample - loss: 0.1735 - val_loss: 0.1129\n",
      "Epoch 66/600\n",
      "426/426 [==============================] - 0s 432us/sample - loss: 0.1535 - val_loss: 0.1065\n",
      "Epoch 67/600\n",
      "426/426 [==============================] - 0s 380us/sample - loss: 0.1658 - val_loss: 0.1131\n",
      "Epoch 68/600\n",
      "426/426 [==============================] - 0s 429us/sample - loss: 0.1353 - val_loss: 0.1234\n",
      "Epoch 69/600\n",
      "426/426 [==============================] - 0s 399us/sample - loss: 0.1393 - val_loss: 0.1059\n",
      "Epoch 70/600\n",
      "426/426 [==============================] - 0s 339us/sample - loss: 0.1464 - val_loss: 0.1107\n",
      "Epoch 71/600\n",
      "426/426 [==============================] - 0s 327us/sample - loss: 0.1412 - val_loss: 0.1063\n",
      "Epoch 72/600\n",
      "426/426 [==============================] - 0s 348us/sample - loss: 0.1390 - val_loss: 0.1071\n",
      "Epoch 73/600\n",
      "426/426 [==============================] - 0s 349us/sample - loss: 0.1258 - val_loss: 0.1120\n",
      "Epoch 74/600\n",
      "426/426 [==============================] - 0s 360us/sample - loss: 0.1196 - val_loss: 0.1078\n",
      "Epoch 75/600\n",
      "426/426 [==============================] - 0s 402us/sample - loss: 0.1477 - val_loss: 0.1099\n",
      "Epoch 76/600\n",
      "426/426 [==============================] - 0s 340us/sample - loss: 0.1242 - val_loss: 0.1188\n",
      "Epoch 77/600\n",
      "426/426 [==============================] - 0s 376us/sample - loss: 0.1397 - val_loss: 0.1134\n"
     ]
    },
    {
     "name": "stdout",
     "output_type": "stream",
     "text": [
      "Epoch 78/600\n",
      "426/426 [==============================] - 0s 358us/sample - loss: 0.1326 - val_loss: 0.1131\n",
      "Epoch 79/600\n",
      "426/426 [==============================] - 0s 375us/sample - loss: 0.1504 - val_loss: 0.1075\n",
      "Epoch 80/600\n",
      "426/426 [==============================] - 0s 417us/sample - loss: 0.1276 - val_loss: 0.1060\n",
      "Epoch 81/600\n",
      "426/426 [==============================] - 0s 428us/sample - loss: 0.1255 - val_loss: 0.1073\n",
      "Epoch 82/600\n",
      "426/426 [==============================] - 0s 340us/sample - loss: 0.0918 - val_loss: 0.1144\n",
      "Epoch 83/600\n",
      "426/426 [==============================] - 0s 399us/sample - loss: 0.1205 - val_loss: 0.1054\n",
      "Epoch 84/600\n",
      "426/426 [==============================] - 0s 377us/sample - loss: 0.1160 - val_loss: 0.1102\n",
      "Epoch 85/600\n",
      "426/426 [==============================] - 0s 361us/sample - loss: 0.1184 - val_loss: 0.1018\n",
      "Epoch 86/600\n",
      "426/426 [==============================] - 0s 350us/sample - loss: 0.1315 - val_loss: 0.1165\n",
      "Epoch 87/600\n",
      "426/426 [==============================] - 0s 338us/sample - loss: 0.1150 - val_loss: 0.0998\n",
      "Epoch 88/600\n",
      "426/426 [==============================] - 0s 239us/sample - loss: 0.1344 - val_loss: 0.1040\n",
      "Epoch 89/600\n",
      "426/426 [==============================] - 0s 306us/sample - loss: 0.1268 - val_loss: 0.1236\n",
      "Epoch 90/600\n",
      "426/426 [==============================] - 0s 348us/sample - loss: 0.1085 - val_loss: 0.0998\n",
      "Epoch 91/600\n",
      "426/426 [==============================] - 0s 305us/sample - loss: 0.1140 - val_loss: 0.1040\n",
      "Epoch 92/600\n",
      "426/426 [==============================] - 0s 303us/sample - loss: 0.1164 - val_loss: 0.1023\n",
      "Epoch 93/600\n",
      "426/426 [==============================] - 0s 286us/sample - loss: 0.1256 - val_loss: 0.1001\n",
      "Epoch 94/600\n",
      "426/426 [==============================] - 0s 303us/sample - loss: 0.1138 - val_loss: 0.0977\n",
      "Epoch 95/600\n",
      "426/426 [==============================] - 0s 340us/sample - loss: 0.1192 - val_loss: 0.1002\n",
      "Epoch 96/600\n",
      "426/426 [==============================] - 0s 345us/sample - loss: 0.0981 - val_loss: 0.1023\n",
      "Epoch 97/600\n",
      "426/426 [==============================] - 0s 284us/sample - loss: 0.1089 - val_loss: 0.1102\n",
      "Epoch 98/600\n",
      "426/426 [==============================] - 0s 307us/sample - loss: 0.0964 - val_loss: 0.1008\n",
      "Epoch 99/600\n",
      "426/426 [==============================] - 0s 320us/sample - loss: 0.1166 - val_loss: 0.0987\n",
      "Epoch 100/600\n",
      "426/426 [==============================] - 0s 340us/sample - loss: 0.1223 - val_loss: 0.0962\n",
      "Epoch 101/600\n",
      "426/426 [==============================] - 0s 262us/sample - loss: 0.1160 - val_loss: 0.1068\n",
      "Epoch 102/600\n",
      "426/426 [==============================] - 0s 301us/sample - loss: 0.1152 - val_loss: 0.0987\n",
      "Epoch 103/600\n",
      "426/426 [==============================] - 0s 357us/sample - loss: 0.1170 - val_loss: 0.1058\n",
      "Epoch 104/600\n",
      "426/426 [==============================] - 0s 348us/sample - loss: 0.1056 - val_loss: 0.1051\n",
      "Epoch 105/600\n",
      "426/426 [==============================] - 0s 330us/sample - loss: 0.1050 - val_loss: 0.0962\n",
      "Epoch 106/600\n",
      "426/426 [==============================] - 0s 326us/sample - loss: 0.1081 - val_loss: 0.1025\n",
      "Epoch 107/600\n",
      "426/426 [==============================] - 0s 349us/sample - loss: 0.0996 - val_loss: 0.1012\n",
      "Epoch 108/600\n",
      "426/426 [==============================] - 0s 384us/sample - loss: 0.1017 - val_loss: 0.0953\n",
      "Epoch 109/600\n",
      "426/426 [==============================] - 0s 401us/sample - loss: 0.0986 - val_loss: 0.1122\n",
      "Epoch 110/600\n",
      "426/426 [==============================] - 0s 417us/sample - loss: 0.1075 - val_loss: 0.1030\n",
      "Epoch 111/600\n",
      "426/426 [==============================] - 0s 430us/sample - loss: 0.1189 - val_loss: 0.1078\n",
      "Epoch 112/600\n",
      "426/426 [==============================] - 0s 441us/sample - loss: 0.1240 - val_loss: 0.1071\n",
      "Epoch 113/600\n",
      "426/426 [==============================] - 0s 369us/sample - loss: 0.1041 - val_loss: 0.0970\n",
      "Epoch 114/600\n",
      "426/426 [==============================] - 0s 360us/sample - loss: 0.1017 - val_loss: 0.1119\n",
      "Epoch 115/600\n",
      "426/426 [==============================] - 0s 297us/sample - loss: 0.0891 - val_loss: 0.1016\n",
      "Epoch 116/600\n",
      "426/426 [==============================] - 0s 354us/sample - loss: 0.0994 - val_loss: 0.0943\n",
      "Epoch 117/600\n",
      "426/426 [==============================] - 0s 305us/sample - loss: 0.1113 - val_loss: 0.1025\n",
      "Epoch 118/600\n",
      "426/426 [==============================] - 0s 356us/sample - loss: 0.0964 - val_loss: 0.1000\n",
      "Epoch 119/600\n",
      "426/426 [==============================] - 0s 391us/sample - loss: 0.0873 - val_loss: 0.1084\n",
      "Epoch 120/600\n",
      "426/426 [==============================] - 0s 368us/sample - loss: 0.0890 - val_loss: 0.1080\n",
      "Epoch 121/600\n",
      "426/426 [==============================] - 0s 394us/sample - loss: 0.1080 - val_loss: 0.1266\n",
      "Epoch 122/600\n",
      "426/426 [==============================] - 0s 314us/sample - loss: 0.1039 - val_loss: 0.1056\n",
      "Epoch 123/600\n",
      "426/426 [==============================] - 0s 331us/sample - loss: 0.0981 - val_loss: 0.1028\n",
      "Epoch 124/600\n",
      "426/426 [==============================] - 0s 324us/sample - loss: 0.0899 - val_loss: 0.1147\n",
      "Epoch 125/600\n",
      "426/426 [==============================] - 0s 376us/sample - loss: 0.1014 - val_loss: 0.1007\n",
      "Epoch 126/600\n",
      "426/426 [==============================] - 0s 431us/sample - loss: 0.0944 - val_loss: 0.0951\n",
      "Epoch 127/600\n",
      "426/426 [==============================] - 0s 347us/sample - loss: 0.0828 - val_loss: 0.1121\n",
      "Epoch 128/600\n",
      "426/426 [==============================] - 0s 310us/sample - loss: 0.0993 - val_loss: 0.1017\n",
      "Epoch 129/600\n",
      "426/426 [==============================] - 0s 363us/sample - loss: 0.0902 - val_loss: 0.0992\n",
      "Epoch 130/600\n",
      "426/426 [==============================] - 0s 392us/sample - loss: 0.1246 - val_loss: 0.1263\n",
      "Epoch 131/600\n",
      "426/426 [==============================] - 0s 343us/sample - loss: 0.0991 - val_loss: 0.1014\n",
      "Epoch 132/600\n",
      "426/426 [==============================] - 0s 327us/sample - loss: 0.1050 - val_loss: 0.1046\n",
      "Epoch 133/600\n",
      "426/426 [==============================] - 0s 336us/sample - loss: 0.1010 - val_loss: 0.1054\n",
      "Epoch 134/600\n",
      "426/426 [==============================] - 0s 335us/sample - loss: 0.0902 - val_loss: 0.1033\n",
      "Epoch 135/600\n",
      "426/426 [==============================] - 0s 295us/sample - loss: 0.0878 - val_loss: 0.1067\n",
      "Epoch 136/600\n",
      "426/426 [==============================] - 0s 355us/sample - loss: 0.0863 - val_loss: 0.1032\n",
      "Epoch 137/600\n",
      "426/426 [==============================] - 0s 289us/sample - loss: 0.1020 - val_loss: 0.1045\n",
      "Epoch 138/600\n",
      "426/426 [==============================] - 0s 341us/sample - loss: 0.0861 - val_loss: 0.1038\n",
      "Epoch 139/600\n",
      "426/426 [==============================] - 0s 414us/sample - loss: 0.0854 - val_loss: 0.1205\n",
      "Epoch 140/600\n",
      "426/426 [==============================] - 0s 394us/sample - loss: 0.1101 - val_loss: 0.1311\n",
      "Epoch 141/600\n",
      "426/426 [==============================] - 0s 415us/sample - loss: 0.1007 - val_loss: 0.1134\n",
      "Epoch 00141: early stopping\n"
     ]
    },
    {
     "data": {
      "text/plain": [
       "<tensorflow.python.keras.callbacks.History at 0x1a7c93278c8>"
      ]
     },
     "execution_count": 18,
     "metadata": {},
     "output_type": "execute_result"
    }
   ],
   "source": [
    "model.fit(x=X_train, \n",
    "          y=y_train, \n",
    "          epochs=600,\n",
    "          validation_data=(X_test, y_test), verbose=1,\n",
    "          callbacks=[early_stop,board]\n",
    "          )"
   ]
  },
  {
   "cell_type": "markdown",
   "metadata": {},
   "source": [
    "# Running Tensorboard\n"
   ]
  },
  {
   "cell_type": "markdown",
   "metadata": {},
   "source": [
    "## Running through the Command Line\n",
    "\n",
    "**Watch video to see how to run Tensorboard through a command line call.**"
   ]
  },
  {
   "cell_type": "markdown",
   "metadata": {},
   "source": [
    "Tensorboard will run locally in your browser at [http://localhost:6006/](http://localhost:6006/)\n"
   ]
  },
  {
   "cell_type": "code",
   "execution_count": 19,
   "metadata": {},
   "outputs": [
    {
     "name": "stdout",
     "output_type": "stream",
     "text": [
      "logs\\fit\n"
     ]
    }
   ],
   "source": [
    "print(log_directory)"
   ]
  },
  {
   "cell_type": "code",
   "execution_count": 21,
   "metadata": {},
   "outputs": [
    {
     "data": {
      "text/plain": [
       "'C:\\\\Users\\\\admin\\\\Downloads\\\\TF_2_Notebooks_and_Data\\\\03-ANNs'"
      ]
     },
     "execution_count": 21,
     "metadata": {},
     "output_type": "execute_result"
    }
   ],
   "source": [
    "pwd"
   ]
  },
  {
   "cell_type": "markdown",
   "metadata": {},
   "source": [
    "### Use cd at your command line to change directory to the file path reported back by pwd or your current .py file location.\n",
    "### Then run this code at your command line or terminal"
   ]
  },
  {
   "cell_type": "code",
   "execution_count": null,
   "metadata": {},
   "outputs": [],
   "source": [
    "tensorboard --logdir logs\\fit "
   ]
  }
 ],
 "metadata": {
  "kernelspec": {
   "display_name": "Python 3",
   "language": "python",
   "name": "python3"
  },
  "language_info": {
   "codemirror_mode": {
    "name": "ipython",
    "version": 3
   },
   "file_extension": ".py",
   "mimetype": "text/x-python",
   "name": "python",
   "nbconvert_exporter": "python",
   "pygments_lexer": "ipython3",
   "version": "3.7.7"
  }
 },
 "nbformat": 4,
 "nbformat_minor": 2
}
