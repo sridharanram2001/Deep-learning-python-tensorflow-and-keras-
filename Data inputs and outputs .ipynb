{
 "cells": [
  {
   "cell_type": "code",
   "execution_count": 2,
   "metadata": {},
   "outputs": [],
   "source": [
    "import numpy as np\n",
    "import pandas as pd"
   ]
  },
  {
   "cell_type": "code",
   "execution_count": 5,
   "metadata": {},
   "outputs": [
    {
     "data": {
      "text/plain": [
       "'C:\\\\Users\\\\admin\\\\Downloads\\\\TF_2_Notebooks_and_Data'"
      ]
     },
     "execution_count": 5,
     "metadata": {},
     "output_type": "execute_result"
    }
   ],
   "source": [
    "pwd"
   ]
  },
  {
   "cell_type": "code",
   "execution_count": 8,
   "metadata": {},
   "outputs": [],
   "source": [
    "df = pd.read_csv(\"C:\\\\Users\\\\admin\\\\Downloads\\\\TF_2_Notebooks_and_Data\\\\01-Pandas-Crash-Course\\\\example.csv\")"
   ]
  },
  {
   "cell_type": "code",
   "execution_count": 10,
   "metadata": {},
   "outputs": [
    {
     "name": "stdout",
     "output_type": "stream",
     "text": [
      " Volume in drive C is Windows\n",
      " Volume Serial Number is C268-0736\n",
      "\n",
      " Directory of C:\\Users\\admin\\Downloads\\TF_2_Notebooks_and_Data\n",
      "\n",
      "08-06-2020  11:19    <DIR>          .\n",
      "08-06-2020  11:19    <DIR>          ..\n",
      "08-06-2020  11:13    <DIR>          .ipynb_checkpoints\n",
      "02-06-2020  19:52    <DIR>          00-NumPy-Crash-Course\n",
      "08-06-2020  10:56    <DIR>          01-Pandas-Crash-Course\n",
      "19-12-2019  22:01    <DIR>          02-Visualization-Crash-Course\n",
      "05-06-2020  19:21    <DIR>          03-ANNs\n",
      "19-12-2019  22:01    <DIR>          04-CNNs\n",
      "19-12-2019  22:01    <DIR>          05-RNNs\n",
      "19-12-2019  22:01    <DIR>          06-NLP-and-Text-Data\n",
      "19-12-2019  22:01    <DIR>          07-AutoEncoders\n",
      "05-06-2020  11:29    <DIR>          08-GANs\n",
      "19-12-2019  22:01    <DIR>          09-Deployment\n",
      "19-12-2019  22:01    <DIR>          DATA\n",
      "08-06-2020  11:19             1,320 Data inputs and outputs .ipynb\n",
      "08-06-2020  11:13            65,568 Pandas_work.ipynb\n",
      "22-11-2019  07:57           138,033 Pierian_Data_Logo.png\n",
      "22-11-2019  07:57                52 README.md\n",
      "05-06-2020  07:45             4,436 Untitled.ipynb\n",
      "05-06-2020  07:45                72 Untitled1.ipynb\n",
      "               6 File(s)        209,481 bytes\n",
      "              14 Dir(s)  30,499,192,832 bytes free\n"
     ]
    }
   ],
   "source": [
    "ls"
   ]
  },
  {
   "cell_type": "code",
   "execution_count": 11,
   "metadata": {},
   "outputs": [],
   "source": [
    "df.to_csv('output.csv',index=True)"
   ]
  },
  {
   "cell_type": "code",
   "execution_count": 12,
   "metadata": {},
   "outputs": [
    {
     "data": {
      "text/html": [
       "<div>\n",
       "<style scoped>\n",
       "    .dataframe tbody tr th:only-of-type {\n",
       "        vertical-align: middle;\n",
       "    }\n",
       "\n",
       "    .dataframe tbody tr th {\n",
       "        vertical-align: top;\n",
       "    }\n",
       "\n",
       "    .dataframe thead th {\n",
       "        text-align: right;\n",
       "    }\n",
       "</style>\n",
       "<table border=\"1\" class=\"dataframe\">\n",
       "  <thead>\n",
       "    <tr style=\"text-align: right;\">\n",
       "      <th></th>\n",
       "      <th>Unnamed: 0</th>\n",
       "      <th>a</th>\n",
       "      <th>b</th>\n",
       "      <th>c</th>\n",
       "      <th>d</th>\n",
       "    </tr>\n",
       "  </thead>\n",
       "  <tbody>\n",
       "    <tr>\n",
       "      <th>0</th>\n",
       "      <td>0</td>\n",
       "      <td>0</td>\n",
       "      <td>1</td>\n",
       "      <td>2</td>\n",
       "      <td>3</td>\n",
       "    </tr>\n",
       "    <tr>\n",
       "      <th>1</th>\n",
       "      <td>1</td>\n",
       "      <td>4</td>\n",
       "      <td>5</td>\n",
       "      <td>6</td>\n",
       "      <td>7</td>\n",
       "    </tr>\n",
       "    <tr>\n",
       "      <th>2</th>\n",
       "      <td>2</td>\n",
       "      <td>8</td>\n",
       "      <td>9</td>\n",
       "      <td>10</td>\n",
       "      <td>11</td>\n",
       "    </tr>\n",
       "    <tr>\n",
       "      <th>3</th>\n",
       "      <td>3</td>\n",
       "      <td>12</td>\n",
       "      <td>13</td>\n",
       "      <td>14</td>\n",
       "      <td>15</td>\n",
       "    </tr>\n",
       "  </tbody>\n",
       "</table>\n",
       "</div>"
      ],
      "text/plain": [
       "   Unnamed: 0   a   b   c   d\n",
       "0           0   0   1   2   3\n",
       "1           1   4   5   6   7\n",
       "2           2   8   9  10  11\n",
       "3           3  12  13  14  15"
      ]
     },
     "execution_count": 12,
     "metadata": {},
     "output_type": "execute_result"
    }
   ],
   "source": [
    "pd.read_csv('output.csv')"
   ]
  },
  {
   "cell_type": "code",
   "execution_count": null,
   "metadata": {},
   "outputs": [],
   "source": []
  }
 ],
 "metadata": {
  "kernelspec": {
   "display_name": "Python 3",
   "language": "python",
   "name": "python3"
  },
  "language_info": {
   "codemirror_mode": {
    "name": "ipython",
    "version": 3
   },
   "file_extension": ".py",
   "mimetype": "text/x-python",
   "name": "python",
   "nbconvert_exporter": "python",
   "pygments_lexer": "ipython3",
   "version": "3.7.7"
  }
 },
 "nbformat": 4,
 "nbformat_minor": 4
}
